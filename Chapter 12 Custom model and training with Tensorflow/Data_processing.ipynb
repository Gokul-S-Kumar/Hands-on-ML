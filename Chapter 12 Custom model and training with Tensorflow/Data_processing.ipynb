{
 "cells": [
  {
   "cell_type": "markdown",
   "metadata": {},
   "source": [
    "# Creating the data pipeline funcs"
   ]
  },
  {
   "cell_type": "code",
   "execution_count": 1,
   "metadata": {},
   "outputs": [],
   "source": [
    "import pandas as pd\n",
    "import numpy as np\n",
    "from sklearn.datasets import fetch_california_housing\n",
    "from sklearn.model_selection import train_test_split\n",
    "from sklearn.preprocessing import StandardScaler"
   ]
  },
  {
   "cell_type": "code",
   "execution_count": 2,
   "metadata": {},
   "outputs": [],
   "source": [
    "def data_pipeline(housing):\n",
    "    df = pd.DataFrame(housing.data, columns = housing.feature_names)\n",
    "    df['target'] = pd.Series(housing.target)\n",
    "    x = df.drop(columns = ['target'])\n",
    "    y = df.target\n",
    "    x_train_full, x_test, y_train_full, y_test = train_test_split(x, y, random_state = 42)\n",
    "    x_train, x_valid, y_train, y_valid = train_test_split(x_train_full, y_train_full, random_state = 42)\n",
    "    scaler = StandardScaler()\n",
    "    x_train = scaler.fit_transform(x_train)\n",
    "    x_valid = scaler.transform(x_valid)\n",
    "    x_test = scaler.transform(x_test)\n",
    "    return (x_train, y_train), (x_valid, y_valid), (x_test, y_test)"
   ]
  }
 ],
 "metadata": {
  "kernelspec": {
   "display_name": "Python 3",
   "language": "python",
   "name": "python3"
  },
  "language_info": {
   "codemirror_mode": {
    "name": "ipython",
    "version": 3
   },
   "file_extension": ".py",
   "mimetype": "text/x-python",
   "name": "python",
   "nbconvert_exporter": "python",
   "pygments_lexer": "ipython3",
   "version": "3.8.2"
  }
 },
 "nbformat": 4,
 "nbformat_minor": 4
}
