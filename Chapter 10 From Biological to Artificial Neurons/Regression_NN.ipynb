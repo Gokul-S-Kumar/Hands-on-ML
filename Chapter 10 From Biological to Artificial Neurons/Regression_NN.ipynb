{
 "cells": [
  {
   "cell_type": "markdown",
   "metadata": {},
   "source": [
    "# Building a regression model using tf.keras and the california housing dataset."
   ]
  },
  {
   "cell_type": "markdown",
   "metadata": {},
   "source": [
    "## Importing libraries"
   ]
  },
  {
   "cell_type": "code",
   "execution_count": 3,
   "metadata": {},
   "outputs": [],
   "source": [
    "import pandas as pd\n",
    "import numpy as np\n",
    "import matplotlib.pyplot as plt\n",
    "import seaborn as sns\n",
    "from sklearn.datasets import fetch_california_housing\n",
    "from sklearn.model_selection import train_test_split\n",
    "from sklearn.preprocessing import StandardScaler\n",
    "import tensorflow as tf\n",
    "from tensorflow import keras"
   ]
  },
  {
   "cell_type": "markdown",
   "metadata": {},
   "source": [
    "## Loading dataset"
   ]
  },
  {
   "cell_type": "code",
   "execution_count": 4,
   "metadata": {},
   "outputs": [],
   "source": [
    "housing = fetch_california_housing()"
   ]
  },
  {
   "cell_type": "markdown",
   "metadata": {},
   "source": [
    "- We will be splitting the data into train, test and validation sets.\n",
    "- Then these sets will be scaled using the Standard Scaler from sklearn."
   ]
  },
  {
   "cell_type": "code",
   "execution_count": 9,
   "metadata": {},
   "outputs": [],
   "source": [
    "x_train_full, x_test, y_train_full, y_test = train_test_split(housing.data, housing.target, random_state = 42)"
   ]
  },
  {
   "cell_type": "code",
   "execution_count": 10,
   "metadata": {},
   "outputs": [],
   "source": [
    "x_train, x_valid, y_train, y_valid = train_test_split(x_train_full, y_train_full, random_state = 42)"
   ]
  },
  {
   "cell_type": "code",
   "execution_count": 11,
   "metadata": {},
   "outputs": [],
   "source": [
    "scaler = StandardScaler()\n",
    "x_train = scaler.fit_transform(x_train)"
   ]
  },
  {
   "cell_type": "code",
   "execution_count": 12,
   "metadata": {},
   "outputs": [],
   "source": [
    "x_valid = scaler.transform(x_valid)\n",
    "x_test = scaler.transform(x_test)"
   ]
  },
  {
   "cell_type": "code",
   "execution_count": 14,
   "metadata": {},
   "outputs": [
    {
     "data": {
      "text/plain": [
       "(8,)"
      ]
     },
     "execution_count": 14,
     "metadata": {},
     "output_type": "execute_result"
    }
   ],
   "source": [
    "x_train.shape[1:]"
   ]
  },
  {
   "cell_type": "markdown",
   "metadata": {},
   "source": [
    "## Building the model"
   ]
  },
  {
   "cell_type": "markdown",
   "metadata": {},
   "source": [
    "- Since the data is noisy, we will be using only one hidden layer with 30 neurons in it.\n",
    "- The output layer will have 1 neuron as we need to predict only the price of the house."
   ]
  },
  {
   "cell_type": "code",
   "execution_count": 50,
   "metadata": {},
   "outputs": [],
   "source": [
    "model = keras.models.Sequential()\n",
    "model.add(keras.layers.Dense(30, activation = 'relu', input_shape = x_train.shape[1:]))\n",
    "model.add(keras.layers.Dense(1))"
   ]
  },
  {
   "cell_type": "code",
   "execution_count": 51,
   "metadata": {},
   "outputs": [
    {
     "name": "stdout",
     "output_type": "stream",
     "text": [
      "Model: \"sequential_4\"\n",
      "_________________________________________________________________\n",
      "Layer (type)                 Output Shape              Param #   \n",
      "=================================================================\n",
      "dense_8 (Dense)              (None, 30)                270       \n",
      "_________________________________________________________________\n",
      "dense_9 (Dense)              (None, 1)                 31        \n",
      "=================================================================\n",
      "Total params: 301\n",
      "Trainable params: 301\n",
      "Non-trainable params: 0\n",
      "_________________________________________________________________\n"
     ]
    }
   ],
   "source": [
    "model.summary()"
   ]
  },
  {
   "cell_type": "markdown",
   "metadata": {},
   "source": [
    "## Compiling the model"
   ]
  },
  {
   "cell_type": "markdown",
   "metadata": {},
   "source": [
    "- Since it is a regression problem, we will be using a mean squared error loss function.\n",
    "- SGD optimizer is used."
   ]
  },
  {
   "cell_type": "code",
   "execution_count": 52,
   "metadata": {},
   "outputs": [],
   "source": [
    "model.compile(loss = 'mean_squared_error', optimizer = keras.optimizers.SGD(lr = 1e-3))"
   ]
  },
  {
   "cell_type": "markdown",
   "metadata": {},
   "source": [
    "## Training the model"
   ]
  },
  {
   "cell_type": "code",
   "execution_count": 53,
   "metadata": {},
   "outputs": [
    {
     "name": "stdout",
     "output_type": "stream",
     "text": [
      "Epoch 1/20\n",
      "363/363 [==============================] - 0s 1ms/step - loss: 1.7583 - val_loss: 0.8586\n",
      "Epoch 2/20\n",
      "363/363 [==============================] - 0s 745us/step - loss: 0.7261 - val_loss: 0.6457\n",
      "Epoch 3/20\n",
      "363/363 [==============================] - 0s 774us/step - loss: 0.6342 - val_loss: 0.5870\n",
      "Epoch 4/20\n",
      "363/363 [==============================] - 0s 791us/step - loss: 0.5963 - val_loss: 0.5534\n",
      "Epoch 5/20\n",
      "363/363 [==============================] - 0s 788us/step - loss: 0.5695 - val_loss: 0.5279\n",
      "Epoch 6/20\n",
      "363/363 [==============================] - 0s 755us/step - loss: 0.5485 - val_loss: 0.5088\n",
      "Epoch 7/20\n",
      "363/363 [==============================] - 0s 765us/step - loss: 0.5311 - val_loss: 0.4922\n",
      "Epoch 8/20\n",
      "363/363 [==============================] - 0s 747us/step - loss: 0.5166 - val_loss: 0.4855\n",
      "Epoch 9/20\n",
      "363/363 [==============================] - 0s 769us/step - loss: 0.5042 - val_loss: 0.4700\n",
      "Epoch 10/20\n",
      "363/363 [==============================] - 0s 798us/step - loss: 0.4934 - val_loss: 0.4589\n",
      "Epoch 11/20\n",
      "363/363 [==============================] - 0s 671us/step - loss: 0.4845 - val_loss: 0.4513\n",
      "Epoch 12/20\n",
      "363/363 [==============================] - 0s 931us/step - loss: 0.4764 - val_loss: 0.4462\n",
      "Epoch 13/20\n",
      "363/363 [==============================] - 0s 776us/step - loss: 0.4693 - val_loss: 0.4431\n",
      "Epoch 14/20\n",
      "363/363 [==============================] - 0s 785us/step - loss: 0.4630 - val_loss: 0.4396\n",
      "Epoch 15/20\n",
      "363/363 [==============================] - 0s 777us/step - loss: 0.4572 - val_loss: 0.4381\n",
      "Epoch 16/20\n",
      "363/363 [==============================] - 0s 806us/step - loss: 0.4520 - val_loss: 0.4316\n",
      "Epoch 17/20\n",
      "363/363 [==============================] - 0s 777us/step - loss: 0.4474 - val_loss: 0.4318\n",
      "Epoch 18/20\n",
      "363/363 [==============================] - 0s 775us/step - loss: 0.4430 - val_loss: 0.4242\n",
      "Epoch 19/20\n",
      "363/363 [==============================] - 0s 887us/step - loss: 0.4391 - val_loss: 0.4293\n",
      "Epoch 20/20\n",
      "363/363 [==============================] - 0s 794us/step - loss: 0.4355 - val_loss: 0.4259\n"
     ]
    }
   ],
   "source": [
    "history = model.fit(x_train, y_train, epochs = 20, validation_data = (x_valid, y_valid))"
   ]
  },
  {
   "cell_type": "code",
   "execution_count": 54,
   "metadata": {},
   "outputs": [],
   "source": [
    "df = pd.DataFrame(history.history)"
   ]
  },
  {
   "cell_type": "code",
   "execution_count": 55,
   "metadata": {},
   "outputs": [
    {
     "data": {
      "text/plain": [
       "<AxesSubplot:>"
      ]
     },
     "execution_count": 55,
     "metadata": {},
     "output_type": "execute_result"
    },
    {
     "data": {
      "image/png": "[encoded data removed]",
      "text/plain": [
       "<Figure size 720x720 with 1 Axes>"
      ]
     },
     "metadata": {},
     "output_type": "display_data"
    }
   ],
   "source": [
    "sns.set(style = 'whitegrid')\n",
    "plt.figure(figsize = (10,10))\n",
    "sns.lineplot(data = df)"
   ]
  },
  {
   "cell_type": "markdown",
   "metadata": {},
   "source": [
    "## Evaluating the model"
   ]
  },
  {
   "cell_type": "code",
   "execution_count": 56,
   "metadata": {},
   "outputs": [
    {
     "name": "stdout",
     "output_type": "stream",
     "text": [
      "162/162 [==============================] - 0s 659us/step - loss: 0.4295\n"
     ]
    }
   ],
   "source": [
    "mse_test = model.evaluate(x_test, y_test)"
   ]
  },
  {
   "cell_type": "markdown",
   "metadata": {},
   "source": [
    "- The MSE of the model is 0.42."
   ]
  },
  {
   "cell_type": "markdown",
   "metadata": {},
   "source": [
    "## Predicting new values"
   ]
  },
  {
   "cell_type": "markdown",
   "metadata": {},
   "source": [
    "- Since there are no new values available, we will using the first three values of the test set for predictions."
   ]
  },
  {
   "cell_type": "code",
   "execution_count": 59,
   "metadata": {},
   "outputs": [],
   "source": [
    "x_new = x_test[:3]\n",
    "y_predict = model.predict(x_new)"
   ]
  },
  {
   "cell_type": "code",
   "execution_count": 60,
   "metadata": {},
   "outputs": [
    {
     "data": {
      "text/plain": [
       "array([[0.57876647],\n",
       "       [1.462677  ],\n",
       "       [3.2089868 ]], dtype=float32)"
      ]
     },
     "execution_count": 60,
     "metadata": {},
     "output_type": "execute_result"
    }
   ],
   "source": [
    "y_predict"
   ]
  },
  {
   "cell_type": "code",
   "execution_count": null,
   "metadata": {},
   "outputs": [],
   "source": []
  }
 ],
 "metadata": {
  "kernelspec": {
   "display_name": "Python 3",
   "language": "python",
   "name": "python3"
  },
  "language_info": {
   "codemirror_mode": {
    "name": "ipython",
    "version": 3
   },
   "file_extension": ".py",
   "mimetype": "text/x-python",
   "name": "python",
   "nbconvert_exporter": "python",
   "pygments_lexer": "ipython3",
   "version": "3.8.2"
  }
 },
 "nbformat": 4,
 "nbformat_minor": 4
}
