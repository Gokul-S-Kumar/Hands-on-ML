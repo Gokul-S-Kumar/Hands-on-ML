{
 "cells": [
  {
   "cell_type": "markdown",
   "metadata": {},
   "source": [
    "# Creating a custom Layer Normalization layer "
   ]
  },
  {
   "cell_type": "markdown",
   "metadata": {},
   "source": [
    "## Importing libraries"
   ]
  },
  {
   "cell_type": "code",
   "execution_count": 4,
   "metadata": {},
   "outputs": [],
   "source": [
    "import tensorflow as tf\n",
    "from tensorflow import keras\n",
    "import pandas as pd\n",
    "import numpy as np\n",
    "from ipynb.fs.full.Useful_funcs import data_pipeline, pre_model\n",
    "from sklearn.datasets import fetch_california_housing"
   ]
  },
  {
   "cell_type": "markdown",
   "metadata": {},
   "source": [
    "## Loading dataset"
   ]
  },
  {
   "cell_type": "code",
   "execution_count": 5,
   "metadata": {},
   "outputs": [],
   "source": [
    "housing = fetch_california_housing()"
   ]
  },
  {
   "cell_type": "code",
   "execution_count": 7,
   "metadata": {},
   "outputs": [],
   "source": [
    "x_train, x_train_scaled, x_valid, x_valid_scaled, x_test, x_test_scaled, y_train, y_valid, y_test = data_pipeline(housing)"
   ]
  },
  {
   "cell_type": "markdown",
   "metadata": {},
   "source": [
    "## Building the custom layer"
   ]
  },
  {
   "cell_type": "code",
   "execution_count": 14,
   "metadata": {},
   "outputs": [],
   "source": [
    "class Layer_normalization(keras.layers.Layer):\n",
    "    def __init__(self, eps = 0.001, **kwargs):\n",
    "        super().__init__(**kwargs)\n",
    "        self.eps = eps # smoothing term\n",
    "    def build(self, batch_input_shape):\n",
    "        self.alpha = self.add_weight(name = 'alpha', shape = batch_input_shape[-1:], initializer = keras.initializers.ones) # Initializing alpha\n",
    "        self.beta = self.add_weight(name = 'beta', shape = batch_input_shape[-1:], initializer = keras.initializers.zeros) # Initializing beta\n",
    "        super().build(batch_input_shape)\n",
    "    def call(self, x):\n",
    "        mean, variance = tf.nn.moments(x, axes = -1, keepdims = True) # Getting the mean and variance of the input instances\n",
    "        return self.alpha * (x - mean) / (tf.sqrt(variance + self.eps)) + self.beta\n",
    "    '''We have included eps inside tf.sqrt() because when the derivative of sqrt(z) is infiinity when z = 0. So the gradients will explode even if the\n",
    "    variance has a single zero component. Adding eps inside the sqrt avoids it.'''\n",
    "    def get_config(self):\n",
    "        base_config = super().get_config()\n",
    "        return {**base_config, 'eps' : eps}"
   ]
  },
  {
   "cell_type": "markdown",
   "metadata": {},
   "source": [
    "- We have to make sure that the perfomance of the custom layer is on par with the inbuilt LayerNormalization() layer from keras.\n",
    "- For that we will measure the performance of the training data on each of the instances created from the class."
   ]
  },
  {
   "cell_type": "code",
   "execution_count": 15,
   "metadata": {},
   "outputs": [],
   "source": [
    "x = x_train.astype(np.float32)"
   ]
  },
  {
   "cell_type": "code",
   "execution_count": 16,
   "metadata": {},
   "outputs": [],
   "source": [
    "custom_norm_layer = Layer_normalization() # Custom instance\n",
    "keras_norm_layer = keras.layers.LayerNormalization() # Keras instance"
   ]
  },
  {
   "cell_type": "code",
   "execution_count": 17,
   "metadata": {},
   "outputs": [
    {
     "data": {
      "text/plain": [
       "<tf.Tensor: shape=(), dtype=float32, numpy=5.6045884e-08>"
      ]
     },
     "execution_count": 17,
     "metadata": {},
     "output_type": "execute_result"
    }
   ],
   "source": [
    "tf.reduce_mean(keras.losses.mean_absolute_error(keras_norm_layer(x), custom_norm_layer(x)))"
   ]
  },
  {
   "cell_type": "markdown",
   "metadata": {},
   "source": [
    "- The error is really small. To be extra sure, we can set the values of alpha and beta as random and check again."
   ]
  },
  {
   "cell_type": "code",
   "execution_count": 18,
   "metadata": {},
   "outputs": [],
   "source": [
    "random_alpha = np.random.rand(x.shape[-1])\n",
    "random_beta = np.random.rand(x.shape[-1])"
   ]
  },
  {
   "cell_type": "code",
   "execution_count": 19,
   "metadata": {},
   "outputs": [],
   "source": [
    "# Setting the random alpha beta values for both the instances\n",
    "custom_norm_layer.set_weights([random_alpha, random_beta])\n",
    "keras_norm_layer.set_weights([random_alpha, random_beta])"
   ]
  },
  {
   "cell_type": "code",
   "execution_count": 20,
   "metadata": {},
   "outputs": [
    {
     "data": {
      "text/plain": [
       "<tf.Tensor: shape=(), dtype=float32, numpy=2.163107e-08>"
      ]
     },
     "execution_count": 20,
     "metadata": {},
     "output_type": "execute_result"
    }
   ],
   "source": [
    "tf.reduce_mean(keras.losses.mean_absolute_error(keras_norm_layer(x), custom_norm_layer(x)))"
   ]
  },
  {
   "cell_type": "markdown",
   "metadata": {},
   "source": [
    "- We can find that the error is still very small. So we conclude the custom layer works fine."
   ]
  },
  {
   "cell_type": "code",
   "execution_count": null,
   "metadata": {},
   "outputs": [],
   "source": []
  }
 ],
 "metadata": {
  "kernelspec": {
   "display_name": "Python 3",
   "language": "python",
   "name": "python3"
  },
  "language_info": {
   "codemirror_mode": {
    "name": "ipython",
    "version": 3
   },
   "file_extension": ".py",
   "mimetype": "text/x-python",
   "name": "python",
   "nbconvert_exporter": "python",
   "pygments_lexer": "ipython3",
   "version": "3.8.2"
  }
 },
 "nbformat": 4,
 "nbformat_minor": 4
}
