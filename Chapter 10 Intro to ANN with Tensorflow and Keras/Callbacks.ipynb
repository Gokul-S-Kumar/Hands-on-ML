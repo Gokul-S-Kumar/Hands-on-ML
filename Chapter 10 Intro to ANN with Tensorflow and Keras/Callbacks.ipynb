{
 "cells": [
  {
   "cell_type": "markdown",
   "metadata": {},
   "source": [
    "# Testing the function of callbacks"
   ]
  },
  {
   "cell_type": "markdown",
   "metadata": {},
   "source": [
    "## Importing libraries"
   ]
  },
  {
   "cell_type": "code",
   "execution_count": 45,
   "metadata": {},
   "outputs": [],
   "source": [
    "import os\n",
    "import pandas as pd\n",
    "import numpy as np\n",
    "import matplotlib.pyplot as plt\n",
    "import seaborn as sns\n",
    "from sklearn.datasets import fetch_california_housing\n",
    "from sklearn.model_selection import train_test_split\n",
    "from sklearn.preprocessing import StandardScaler\n",
    "import tensorflow as tf\n",
    "from tensorflow import keras"
   ]
  },
  {
   "cell_type": "markdown",
   "metadata": {},
   "source": [
    "## Loading dataset"
   ]
  },
  {
   "cell_type": "code",
   "execution_count": 3,
   "metadata": {},
   "outputs": [],
   "source": [
    "housing = fetch_california_housing()"
   ]
  },
  {
   "cell_type": "code",
   "execution_count": 4,
   "metadata": {},
   "outputs": [],
   "source": [
    "df_data = pd.DataFrame(housing.data, columns = housing.feature_names)"
   ]
  },
  {
   "cell_type": "code",
   "execution_count": 5,
   "metadata": {},
   "outputs": [],
   "source": [
    "df_data['target'] = pd.Series(housing.target)"
   ]
  },
  {
   "cell_type": "code",
   "execution_count": 6,
   "metadata": {},
   "outputs": [
    {
     "data": {
      "text/html": [
       "<div>\n",
       "<style scoped>\n",
       "    .dataframe tbody tr th:only-of-type {\n",
       "        vertical-align: middle;\n",
       "    }\n",
       "\n",
       "    .dataframe tbody tr th {\n",
       "        vertical-align: top;\n",
       "    }\n",
       "\n",
       "    .dataframe thead th {\n",
       "        text-align: right;\n",
       "    }\n",
       "</style>\n",
       "<table border=\"1\" class=\"dataframe\">\n",
       "  <thead>\n",
       "    <tr style=\"text-align: right;\">\n",
       "      <th></th>\n",
       "      <th>MedInc</th>\n",
       "      <th>HouseAge</th>\n",
       "      <th>AveRooms</th>\n",
       "      <th>AveBedrms</th>\n",
       "      <th>Population</th>\n",
       "      <th>AveOccup</th>\n",
       "      <th>Latitude</th>\n",
       "      <th>Longitude</th>\n",
       "      <th>target</th>\n",
       "    </tr>\n",
       "  </thead>\n",
       "  <tbody>\n",
       "    <tr>\n",
       "      <th>0</th>\n",
       "      <td>8.3252</td>\n",
       "      <td>41.0</td>\n",
       "      <td>6.984127</td>\n",
       "      <td>1.023810</td>\n",
       "      <td>322.0</td>\n",
       "      <td>2.555556</td>\n",
       "      <td>37.88</td>\n",
       "      <td>-122.23</td>\n",
       "      <td>4.526</td>\n",
       "    </tr>\n",
       "    <tr>\n",
       "      <th>1</th>\n",
       "      <td>8.3014</td>\n",
       "      <td>21.0</td>\n",
       "      <td>6.238137</td>\n",
       "      <td>0.971880</td>\n",
       "      <td>2401.0</td>\n",
       "      <td>2.109842</td>\n",
       "      <td>37.86</td>\n",
       "      <td>-122.22</td>\n",
       "      <td>3.585</td>\n",
       "    </tr>\n",
       "    <tr>\n",
       "      <th>2</th>\n",
       "      <td>7.2574</td>\n",
       "      <td>52.0</td>\n",
       "      <td>8.288136</td>\n",
       "      <td>1.073446</td>\n",
       "      <td>496.0</td>\n",
       "      <td>2.802260</td>\n",
       "      <td>37.85</td>\n",
       "      <td>-122.24</td>\n",
       "      <td>3.521</td>\n",
       "    </tr>\n",
       "    <tr>\n",
       "      <th>3</th>\n",
       "      <td>5.6431</td>\n",
       "      <td>52.0</td>\n",
       "      <td>5.817352</td>\n",
       "      <td>1.073059</td>\n",
       "      <td>558.0</td>\n",
       "      <td>2.547945</td>\n",
       "      <td>37.85</td>\n",
       "      <td>-122.25</td>\n",
       "      <td>3.413</td>\n",
       "    </tr>\n",
       "    <tr>\n",
       "      <th>4</th>\n",
       "      <td>3.8462</td>\n",
       "      <td>52.0</td>\n",
       "      <td>6.281853</td>\n",
       "      <td>1.081081</td>\n",
       "      <td>565.0</td>\n",
       "      <td>2.181467</td>\n",
       "      <td>37.85</td>\n",
       "      <td>-122.25</td>\n",
       "      <td>3.422</td>\n",
       "    </tr>\n",
       "  </tbody>\n",
       "</table>\n",
       "</div>"
      ],
      "text/plain": [
       "   MedInc  HouseAge  AveRooms  AveBedrms  Population  AveOccup  Latitude  \\\n",
       "0  8.3252      41.0  6.984127   1.023810       322.0  2.555556     37.88   \n",
       "1  8.3014      21.0  6.238137   0.971880      2401.0  2.109842     37.86   \n",
       "2  7.2574      52.0  8.288136   1.073446       496.0  2.802260     37.85   \n",
       "3  5.6431      52.0  5.817352   1.073059       558.0  2.547945     37.85   \n",
       "4  3.8462      52.0  6.281853   1.081081       565.0  2.181467     37.85   \n",
       "\n",
       "   Longitude  target  \n",
       "0    -122.23   4.526  \n",
       "1    -122.22   3.585  \n",
       "2    -122.24   3.521  \n",
       "3    -122.25   3.413  \n",
       "4    -122.25   3.422  "
      ]
     },
     "execution_count": 6,
     "metadata": {},
     "output_type": "execute_result"
    }
   ],
   "source": [
    "df_data.head()"
   ]
  },
  {
   "cell_type": "markdown",
   "metadata": {},
   "source": [
    "## Splitting the data"
   ]
  },
  {
   "cell_type": "markdown",
   "metadata": {},
   "source": [
    "- We will be splitting the data into train, validation and test sets."
   ]
  },
  {
   "cell_type": "code",
   "execution_count": 8,
   "metadata": {},
   "outputs": [],
   "source": [
    "x = np.array(df_data.drop(columns = 'target', axis = 1))\n",
    "y = np.array(df_data.target)"
   ]
  },
  {
   "cell_type": "code",
   "execution_count": 11,
   "metadata": {},
   "outputs": [],
   "source": [
    "x_train_full, x_test, y_train_full, y_test = train_test_split(x, y, random_state = 42)\n",
    "x_train, x_valid, y_train, y_valid = train_test_split(x_train_full, y_train_full, random_state = 42)"
   ]
  },
  {
   "cell_type": "markdown",
   "metadata": {},
   "source": [
    "## Scaling the data"
   ]
  },
  {
   "cell_type": "markdown",
   "metadata": {},
   "source": [
    "- Scaling the data using Standard Scaler"
   ]
  },
  {
   "cell_type": "code",
   "execution_count": 12,
   "metadata": {},
   "outputs": [],
   "source": [
    "scaler = StandardScaler()\n",
    "x_train = scaler.fit_transform(x_train)\n",
    "x_test = scaler.transform(x_test)\n",
    "x_valid = scaler.transform(x_valid)"
   ]
  },
  {
   "cell_type": "markdown",
   "metadata": {},
   "source": [
    "## Building the model"
   ]
  },
  {
   "cell_type": "markdown",
   "metadata": {},
   "source": [
    "- The NN model will be having 2 hidden layers with 30 units each."
   ]
  },
  {
   "cell_type": "code",
   "execution_count": 13,
   "metadata": {},
   "outputs": [],
   "source": [
    "model = keras.models.Sequential()\n",
    "model.add(keras.layers.Dense(30, activation = 'relu', input_shape = [8]))\n",
    "model.add(keras.layers.Dense(30, activation = 'relu'))\n",
    "model.add(keras.layers.Dense(1))"
   ]
  },
  {
   "cell_type": "code",
   "execution_count": 14,
   "metadata": {},
   "outputs": [
    {
     "name": "stdout",
     "output_type": "stream",
     "text": [
      "Model: \"sequential\"\n",
      "_________________________________________________________________\n",
      "Layer (type)                 Output Shape              Param #   \n",
      "=================================================================\n",
      "dense (Dense)                (None, 30)                270       \n",
      "_________________________________________________________________\n",
      "dense_1 (Dense)              (None, 30)                930       \n",
      "_________________________________________________________________\n",
      "dense_2 (Dense)              (None, 1)                 31        \n",
      "=================================================================\n",
      "Total params: 1,231\n",
      "Trainable params: 1,231\n",
      "Non-trainable params: 0\n",
      "_________________________________________________________________\n"
     ]
    }
   ],
   "source": [
    "model.summary()"
   ]
  },
  {
   "cell_type": "markdown",
   "metadata": {},
   "source": [
    "## Compiling the model"
   ]
  },
  {
   "cell_type": "markdown",
   "metadata": {},
   "source": [
    "- Loss function is mean squared error.\n",
    "- Optimizer is SGD with a learning rate of 1e-3."
   ]
  },
  {
   "cell_type": "code",
   "execution_count": 15,
   "metadata": {},
   "outputs": [],
   "source": [
    "model.compile(loss = 'mse', optimizer = keras.optimizers.SGD(lr = 1e-3))"
   ]
  },
  {
   "cell_type": "markdown",
   "metadata": {},
   "source": [
    "## Initializing callback"
   ]
  },
  {
   "cell_type": "code",
   "execution_count": 16,
   "metadata": {},
   "outputs": [],
   "source": [
    "checkpoint_cb = keras.callbacks.ModelCheckpoint('testing_callback_func.h5', save_best_only = True)"
   ]
  },
  {
   "cell_type": "markdown",
   "metadata": {},
   "source": [
    "- We are introducing the filepath to the above file to save the checkpoints while training the model at certain frequency, default is after each epoch.\n",
    "- The save_best_only argument set to true only overwrites the filepath when there is an increase in the validation score."
   ]
  },
  {
   "cell_type": "markdown",
   "metadata": {},
   "source": [
    "## Training the model"
   ]
  },
  {
   "cell_type": "code",
   "execution_count": 17,
   "metadata": {},
   "outputs": [
    {
     "name": "stdout",
     "output_type": "stream",
     "text": [
      "Epoch 1/10\n",
      "363/363 [==============================] - 0s 1ms/step - loss: 1.9921 - val_loss: 7.2872\n",
      "Epoch 2/10\n",
      "363/363 [==============================] - 0s 911us/step - loss: 0.8656 - val_loss: 0.8410\n",
      "Epoch 3/10\n",
      "363/363 [==============================] - 0s 920us/step - loss: 0.6846 - val_loss: 0.6465\n",
      "Epoch 4/10\n",
      "363/363 [==============================] - 0s 903us/step - loss: 0.6355 - val_loss: 0.6015\n",
      "Epoch 5/10\n",
      "363/363 [==============================] - 0s 910us/step - loss: 0.6047 - val_loss: 0.5741\n",
      "Epoch 6/10\n",
      "363/363 [==============================] - 0s 884us/step - loss: 0.5798 - val_loss: 0.5479\n",
      "Epoch 7/10\n",
      "363/363 [==============================] - 0s 898us/step - loss: 0.5581 - val_loss: 0.5287\n",
      "Epoch 8/10\n",
      "363/363 [==============================] - 0s 1ms/step - loss: 0.5390 - val_loss: 0.5069\n",
      "Epoch 9/10\n",
      "363/363 [==============================] - 0s 857us/step - loss: 0.5216 - val_loss: 0.4980\n",
      "Epoch 10/10\n",
      "363/363 [==============================] - 0s 885us/step - loss: 0.5062 - val_loss: 0.4740\n"
     ]
    }
   ],
   "source": [
    "history = model.fit(x_train, y_train, epochs = 10, validation_data = (x_valid, y_valid), callbacks = [checkpoint_cb])"
   ]
  },
  {
   "cell_type": "markdown",
   "metadata": {},
   "source": [
    "## Rollback to best model"
   ]
  },
  {
   "cell_type": "code",
   "execution_count": 18,
   "metadata": {},
   "outputs": [],
   "source": [
    "model = keras.models.load_model('testing_callback_func.h5')"
   ]
  },
  {
   "cell_type": "markdown",
   "metadata": {},
   "source": [
    "- Here we are rolling back to the best model generated in terms of validation score during training."
   ]
  },
  {
   "cell_type": "code",
   "execution_count": 19,
   "metadata": {},
   "outputs": [
    {
     "name": "stdout",
     "output_type": "stream",
     "text": [
      "162/162 [==============================] - 0s 568us/step - loss: 0.4908\n"
     ]
    },
    {
     "data": {
      "text/plain": [
       "0.4908326268196106"
      ]
     },
     "execution_count": 19,
     "metadata": {},
     "output_type": "execute_result"
    }
   ],
   "source": [
    "model.evaluate(x_test, y_test)"
   ]
  },
  {
   "cell_type": "markdown",
   "metadata": {},
   "source": [
    "## Early stopping callback"
   ]
  },
  {
   "cell_type": "code",
   "execution_count": 30,
   "metadata": {},
   "outputs": [],
   "source": [
    "model = keras.models.Sequential()\n",
    "model.add(keras.layers.Dense(30, activation = 'relu', input_shape = [8]))\n",
    "model.add(keras.layers.Dense(30, activation = 'relu'))\n",
    "model.add(keras.layers.Dense(1))"
   ]
  },
  {
   "cell_type": "code",
   "execution_count": 31,
   "metadata": {},
   "outputs": [],
   "source": [
    "early_stopping_cb = keras.callbacks.EarlyStopping(patience = 10, restore_best_weights = True)"
   ]
  },
  {
   "cell_type": "code",
   "execution_count": 32,
   "metadata": {},
   "outputs": [],
   "source": [
    "model.compile(loss = 'mse', optimizer = keras.optimizers.SGD(lr = 1e-3))"
   ]
  },
  {
   "cell_type": "code",
   "execution_count": 33,
   "metadata": {},
   "outputs": [
    {
     "name": "stdout",
     "output_type": "stream",
     "text": [
      "Epoch 1/100\n",
      "363/363 [==============================] - 0s 1ms/step - loss: 2.1408 - val_loss: 5.5723\n",
      "Epoch 2/100\n",
      "363/363 [==============================] - 0s 879us/step - loss: 0.8704 - val_loss: 0.7924\n",
      "Epoch 3/100\n",
      "363/363 [==============================] - 0s 905us/step - loss: 0.6788 - val_loss: 0.6377\n",
      "Epoch 4/100\n",
      "363/363 [==============================] - 0s 856us/step - loss: 0.6212 - val_loss: 0.6117\n",
      "Epoch 5/100\n",
      "363/363 [==============================] - 0s 854us/step - loss: 0.5875 - val_loss: 0.5838\n",
      "Epoch 6/100\n",
      "363/363 [==============================] - 0s 887us/step - loss: 0.5622 - val_loss: 0.5294\n",
      "Epoch 7/100\n",
      "363/363 [==============================] - 0s 931us/step - loss: 0.5411 - val_loss: 0.5222\n",
      "Epoch 8/100\n",
      "363/363 [==============================] - 0s 903us/step - loss: 0.5231 - val_loss: 0.5010\n",
      "Epoch 9/100\n",
      "363/363 [==============================] - 0s 914us/step - loss: 0.5077 - val_loss: 0.4898\n",
      "Epoch 10/100\n",
      "363/363 [==============================] - 0s 854us/step - loss: 0.4944 - val_loss: 0.4757\n",
      "Epoch 11/100\n",
      "363/363 [==============================] - 0s 904us/step - loss: 0.4828 - val_loss: 0.4508\n",
      "Epoch 12/100\n",
      "363/363 [==============================] - 0s 853us/step - loss: 0.4722 - val_loss: 0.4407\n",
      "Epoch 13/100\n",
      "363/363 [==============================] - 0s 883us/step - loss: 0.4632 - val_loss: 0.4292\n",
      "Epoch 14/100\n",
      "363/363 [==============================] - 0s 926us/step - loss: 0.4549 - val_loss: 0.4212\n",
      "Epoch 15/100\n",
      "363/363 [==============================] - 0s 895us/step - loss: 0.4477 - val_loss: 0.4184\n",
      "Epoch 16/100\n",
      "363/363 [==============================] - 0s 882us/step - loss: 0.4412 - val_loss: 0.4119\n",
      "Epoch 17/100\n",
      "363/363 [==============================] - 0s 908us/step - loss: 0.4349 - val_loss: 0.4135\n",
      "Epoch 18/100\n",
      "363/363 [==============================] - 0s 909us/step - loss: 0.4295 - val_loss: 0.4090\n",
      "Epoch 19/100\n",
      "363/363 [==============================] - 0s 901us/step - loss: 0.4249 - val_loss: 0.4068\n",
      "Epoch 20/100\n",
      "363/363 [==============================] - 0s 845us/step - loss: 0.4200 - val_loss: 0.4036\n",
      "Epoch 21/100\n",
      "363/363 [==============================] - 0s 897us/step - loss: 0.4162 - val_loss: 0.4041\n",
      "Epoch 22/100\n",
      "363/363 [==============================] - 0s 1ms/step - loss: 0.4129 - val_loss: 0.4009\n",
      "Epoch 23/100\n",
      "363/363 [==============================] - 0s 933us/step - loss: 0.4093 - val_loss: 0.3998\n",
      "Epoch 24/100\n",
      "363/363 [==============================] - 0s 902us/step - loss: 0.4061 - val_loss: 0.3980\n",
      "Epoch 25/100\n",
      "363/363 [==============================] - 0s 913us/step - loss: 0.4034 - val_loss: 0.4005\n",
      "Epoch 26/100\n",
      "363/363 [==============================] - 0s 901us/step - loss: 0.4006 - val_loss: 0.3991\n",
      "Epoch 27/100\n",
      "363/363 [==============================] - 0s 871us/step - loss: 0.3980 - val_loss: 0.3968\n",
      "Epoch 28/100\n",
      "363/363 [==============================] - 0s 909us/step - loss: 0.3955 - val_loss: 0.3954\n",
      "Epoch 29/100\n",
      "363/363 [==============================] - 0s 900us/step - loss: 0.3935 - val_loss: 0.3926\n",
      "Epoch 30/100\n",
      "363/363 [==============================] - 0s 908us/step - loss: 0.3913 - val_loss: 0.3942\n",
      "Epoch 31/100\n",
      "363/363 [==============================] - 0s 892us/step - loss: 0.3894 - val_loss: 0.3882\n",
      "Epoch 32/100\n",
      "363/363 [==============================] - 0s 929us/step - loss: 0.3874 - val_loss: 0.3855\n",
      "Epoch 33/100\n",
      "363/363 [==============================] - 0s 1ms/step - loss: 0.3858 - val_loss: 0.3863\n",
      "Epoch 34/100\n",
      "363/363 [==============================] - 0s 910us/step - loss: 0.3840 - val_loss: 0.3854\n",
      "Epoch 35/100\n",
      "363/363 [==============================] - 0s 914us/step - loss: 0.3827 - val_loss: 0.3752\n",
      "Epoch 36/100\n",
      "363/363 [==============================] - 0s 931us/step - loss: 0.3811 - val_loss: 0.3879\n",
      "Epoch 37/100\n",
      "363/363 [==============================] - 0s 1ms/step - loss: 0.3798 - val_loss: 0.3813\n",
      "Epoch 38/100\n",
      "363/363 [==============================] - 0s 761us/step - loss: 0.3782 - val_loss: 0.3789\n",
      "Epoch 39/100\n",
      "363/363 [==============================] - 0s 865us/step - loss: 0.3769 - val_loss: 0.3862\n",
      "Epoch 40/100\n",
      "363/363 [==============================] - 0s 876us/step - loss: 0.3757 - val_loss: 0.3847\n",
      "Epoch 41/100\n",
      "363/363 [==============================] - 0s 932us/step - loss: 0.3747 - val_loss: 0.3741\n",
      "Epoch 42/100\n",
      "363/363 [==============================] - 0s 1ms/step - loss: 0.3736 - val_loss: 0.3827\n",
      "Epoch 43/100\n",
      "363/363 [==============================] - 0s 910us/step - loss: 0.3726 - val_loss: 0.3851\n",
      "Epoch 44/100\n",
      "363/363 [==============================] - 0s 962us/step - loss: 0.3715 - val_loss: 0.3906\n",
      "Epoch 45/100\n",
      "363/363 [==============================] - 0s 985us/step - loss: 0.3706 - val_loss: 0.3853\n",
      "Epoch 46/100\n",
      "363/363 [==============================] - 0s 891us/step - loss: 0.3696 - val_loss: 0.3939\n",
      "Epoch 47/100\n",
      "363/363 [==============================] - 0s 873us/step - loss: 0.3687 - val_loss: 0.3874\n",
      "Epoch 48/100\n",
      "363/363 [==============================] - 0s 847us/step - loss: 0.3679 - val_loss: 0.3815\n",
      "Epoch 49/100\n",
      "363/363 [==============================] - 0s 851us/step - loss: 0.3670 - val_loss: 0.3823\n",
      "Epoch 50/100\n",
      "363/363 [==============================] - 0s 918us/step - loss: 0.3663 - val_loss: 0.3686\n",
      "Epoch 51/100\n",
      "363/363 [==============================] - 0s 953us/step - loss: 0.3654 - val_loss: 0.3779\n",
      "Epoch 52/100\n",
      "363/363 [==============================] - 0s 972us/step - loss: 0.3645 - val_loss: 0.3820\n",
      "Epoch 53/100\n",
      "363/363 [==============================] - 0s 1ms/step - loss: 0.3641 - val_loss: 0.3829\n",
      "Epoch 54/100\n",
      "363/363 [==============================] - 0s 914us/step - loss: 0.3632 - val_loss: 0.3783\n",
      "Epoch 55/100\n",
      "363/363 [==============================] - 0s 857us/step - loss: 0.3624 - val_loss: 0.3859\n",
      "Epoch 56/100\n",
      "363/363 [==============================] - 0s 919us/step - loss: 0.3618 - val_loss: 0.3708\n",
      "Epoch 57/100\n",
      "363/363 [==============================] - 0s 873us/step - loss: 0.3611 - val_loss: 0.3762\n",
      "Epoch 58/100\n",
      "363/363 [==============================] - 0s 942us/step - loss: 0.3606 - val_loss: 0.3732\n",
      "Epoch 59/100\n",
      "363/363 [==============================] - 0s 914us/step - loss: 0.3598 - val_loss: 0.3597\n",
      "Epoch 60/100\n",
      "363/363 [==============================] - 0s 1ms/step - loss: 0.3592 - val_loss: 0.3664\n",
      "Epoch 61/100\n",
      "363/363 [==============================] - 0s 892us/step - loss: 0.3584 - val_loss: 0.3682\n",
      "Epoch 62/100\n",
      "363/363 [==============================] - 0s 1ms/step - loss: 0.3578 - val_loss: 0.3722\n",
      "Epoch 63/100\n",
      "363/363 [==============================] - 0s 925us/step - loss: 0.3573 - val_loss: 0.3732\n",
      "Epoch 64/100\n",
      "363/363 [==============================] - 0s 876us/step - loss: 0.3568 - val_loss: 0.3531\n",
      "Epoch 65/100\n",
      "363/363 [==============================] - 0s 884us/step - loss: 0.3561 - val_loss: 0.3636\n",
      "Epoch 66/100\n",
      "363/363 [==============================] - 0s 1ms/step - loss: 0.3558 - val_loss: 0.3632\n",
      "Epoch 67/100\n",
      "363/363 [==============================] - 0s 854us/step - loss: 0.3552 - val_loss: 0.3680\n",
      "Epoch 68/100\n",
      "363/363 [==============================] - 0s 914us/step - loss: 0.3543 - val_loss: 0.3655\n",
      "Epoch 69/100\n",
      "363/363 [==============================] - 0s 999us/step - loss: 0.3540 - val_loss: 0.3684\n",
      "Epoch 70/100\n",
      "363/363 [==============================] - 0s 879us/step - loss: 0.3536 - val_loss: 0.3574\n",
      "Epoch 71/100\n",
      "363/363 [==============================] - 0s 978us/step - loss: 0.3530 - val_loss: 0.3608\n",
      "Epoch 72/100\n",
      "363/363 [==============================] - 0s 921us/step - loss: 0.3523 - val_loss: 0.3615\n",
      "Epoch 73/100\n",
      "363/363 [==============================] - 0s 954us/step - loss: 0.3520 - val_loss: 0.3550\n",
      "Epoch 74/100\n",
      "363/363 [==============================] - 0s 956us/step - loss: 0.3514 - val_loss: 0.3591\n"
     ]
    }
   ],
   "source": [
    "history = model.fit(x_train, y_train, epochs = 100, validation_data = (x_valid, y_valid), callbacks = [checkpoint_cb, early_stopping_cb]) "
   ]
  },
  {
   "cell_type": "markdown",
   "metadata": {},
   "source": [
    "- The model was stopped after 66 epoch as the callback func didnt find any increase in the val_loss after 10 epochs."
   ]
  },
  {
   "cell_type": "code",
   "execution_count": 34,
   "metadata": {},
   "outputs": [],
   "source": [
    "df_metrics = pd.DataFrame(history.history)"
   ]
  },
  {
   "cell_type": "code",
   "execution_count": 35,
   "metadata": {},
   "outputs": [
    {
     "data": {
      "text/html": [
       "<div>\n",
       "<style scoped>\n",
       "    .dataframe tbody tr th:only-of-type {\n",
       "        vertical-align: middle;\n",
       "    }\n",
       "\n",
       "    .dataframe tbody tr th {\n",
       "        vertical-align: top;\n",
       "    }\n",
       "\n",
       "    .dataframe thead th {\n",
       "        text-align: right;\n",
       "    }\n",
       "</style>\n",
       "<table border=\"1\" class=\"dataframe\">\n",
       "  <thead>\n",
       "    <tr style=\"text-align: right;\">\n",
       "      <th></th>\n",
       "      <th>loss</th>\n",
       "      <th>val_loss</th>\n",
       "    </tr>\n",
       "  </thead>\n",
       "  <tbody>\n",
       "    <tr>\n",
       "      <th>0</th>\n",
       "      <td>2.140760</td>\n",
       "      <td>5.572293</td>\n",
       "    </tr>\n",
       "    <tr>\n",
       "      <th>1</th>\n",
       "      <td>0.870395</td>\n",
       "      <td>0.792423</td>\n",
       "    </tr>\n",
       "    <tr>\n",
       "      <th>2</th>\n",
       "      <td>0.678835</td>\n",
       "      <td>0.637671</td>\n",
       "    </tr>\n",
       "    <tr>\n",
       "      <th>3</th>\n",
       "      <td>0.621247</td>\n",
       "      <td>0.611738</td>\n",
       "    </tr>\n",
       "    <tr>\n",
       "      <th>4</th>\n",
       "      <td>0.587457</td>\n",
       "      <td>0.583758</td>\n",
       "    </tr>\n",
       "  </tbody>\n",
       "</table>\n",
       "</div>"
      ],
      "text/plain": [
       "       loss  val_loss\n",
       "0  2.140760  5.572293\n",
       "1  0.870395  0.792423\n",
       "2  0.678835  0.637671\n",
       "3  0.621247  0.611738\n",
       "4  0.587457  0.583758"
      ]
     },
     "execution_count": 35,
     "metadata": {},
     "output_type": "execute_result"
    }
   ],
   "source": [
    "df_metrics.head()"
   ]
  },
  {
   "cell_type": "code",
   "execution_count": 38,
   "metadata": {},
   "outputs": [
    {
     "data": {
      "text/plain": [
       "(0.0, 100.0, 0.0, 1.0)"
      ]
     },
     "execution_count": 38,
     "metadata": {},
     "output_type": "execute_result"
    },
    {
     "data": {
      "image/png": "[encoded data removed]",
      "text/plain": [
       "<Figure size 720x720 with 1 Axes>"
      ]
     },
     "metadata": {},
     "output_type": "display_data"
    }
   ],
   "source": [
    "sns.set(style = 'whitegrid')\n",
    "plt.figure(figsize = (10,10))\n",
    "ax = sns.lineplot(data = df_metrics)\n",
    "plt.axis([0, 100, 0, 1])"
   ]
  },
  {
   "cell_type": "code",
   "execution_count": 37,
   "metadata": {},
   "outputs": [
    {
     "name": "stdout",
     "output_type": "stream",
     "text": [
      "162/162 [==============================] - 0s 550us/step - loss: 0.3567\n"
     ]
    },
    {
     "data": {
      "text/plain": [
       "0.3566860556602478"
      ]
     },
     "execution_count": 37,
     "metadata": {},
     "output_type": "execute_result"
    }
   ],
   "source": [
    "model.evaluate(x_test, y_test)"
   ]
  },
  {
   "cell_type": "markdown",
   "metadata": {},
   "source": [
    "## Custom callbacks"
   ]
  },
  {
   "cell_type": "code",
   "execution_count": 39,
   "metadata": {},
   "outputs": [],
   "source": [
    "class print_val_train_ratio_callback(keras.callbacks.Callback):\n",
    "    def on_epoch_end(self, epoch, logs):\n",
    "        print('\\nval/train: {:.2f}'.format(logs['val_loss']/logs['loss']))"
   ]
  },
  {
   "cell_type": "markdown",
   "metadata": {},
   "source": [
    "- We are using a custom callback function to print the ration betweem train and validation loss at the end of each epoch."
   ]
  },
  {
   "cell_type": "code",
   "execution_count": 40,
   "metadata": {},
   "outputs": [],
   "source": [
    "val_train_ratio_cb = print_val_train_ratio_callback()"
   ]
  },
  {
   "cell_type": "code",
   "execution_count": 42,
   "metadata": {},
   "outputs": [
    {
     "name": "stdout",
     "output_type": "stream",
     "text": [
      "285/363 [======================>.......] - ETA: 0s - loss: 0.3532\n",
      "val/train: 1.02\n",
      "363/363 [==============================] - 0s 914us/step - loss: 0.3563 - val_loss: 0.3641\n"
     ]
    }
   ],
   "source": [
    "history = model.fit(x_train, y_train, epochs = 1, validation_data = (x_valid, y_valid), callbacks = [val_train_ratio_cb])"
   ]
  },
  {
   "cell_type": "code",
   "execution_count": null,
   "metadata": {},
   "outputs": [],
   "source": []
  }
 ],
 "metadata": {
  "kernelspec": {
   "display_name": "Python 3",
   "language": "python",
   "name": "python3"
  },
  "language_info": {
   "codemirror_mode": {
    "name": "ipython",
    "version": 3
   },
   "file_extension": ".py",
   "mimetype": "text/x-python",
   "name": "python",
   "nbconvert_exporter": "python",
   "pygments_lexer": "ipython3",
   "version": "3.8.2"
  }
 },
 "nbformat": 4,
 "nbformat_minor": 4
}
