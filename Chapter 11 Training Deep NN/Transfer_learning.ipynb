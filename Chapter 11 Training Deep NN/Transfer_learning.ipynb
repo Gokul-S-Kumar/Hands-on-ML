{
 "cells": [
  {
   "cell_type": "markdown",
   "metadata": {},
   "source": [
    "# Testing out the functionality of Transfer learning using the Fashion MNIST data "
   ]
  },
  {
   "cell_type": "markdown",
   "metadata": {},
   "source": [
    "## Importing libraries"
   ]
  },
  {
   "cell_type": "code",
   "execution_count": 1,
   "metadata": {},
   "outputs": [],
   "source": [
    "import pandas as pd\n",
    "import numpy as np\n",
    "import tensorflow as tf\n",
    "from tensorflow import keras\n",
    "import matplotlib.pyplot as plt\n",
    "import seaborn as sns"
   ]
  },
  {
   "cell_type": "markdown",
   "metadata": {},
   "source": [
    "## Loading dataset"
   ]
  },
  {
   "cell_type": "code",
   "execution_count": 2,
   "metadata": {},
   "outputs": [],
   "source": [
    "(x_train_full, y_train_full), (x_test, y_test) = keras.datasets.fashion_mnist.load_data()"
   ]
  },
  {
   "cell_type": "code",
   "execution_count": 3,
   "metadata": {},
   "outputs": [],
   "source": [
    "x_valid, x_train = x_train_full[:5000] / 255, x_train_full[5000:] / 255\n",
    "y_valid, y_train = y_train_full[:5000], y_train_full[5000:]\n",
    "x_test = x_test / 255"
   ]
  },
  {
   "cell_type": "markdown",
   "metadata": {},
   "source": [
    "- We will be dividing the dataset into 2 groups A and B.\n",
    "- Group A will be having all the images except that of sandals and shirt.\n",
    "- Group B will be having the first 200 images of sandal and shirt.\n",
    "- The validation and test data will also be split like this, without restricting the no. of images."
   ]
  },
  {
   "cell_type": "code",
   "execution_count": 9,
   "metadata": {},
   "outputs": [],
   "source": [
    "def split_dataset(x, y):\n",
    "    y_5_or_6 = (y == 5) | (y == 6) \n",
    "    y_a = y[~y_5_or_6] \n",
    "    y_a[y_a > 6] -= 2 #Reducing the classes (7, 8, 9) to (5, 6, 7)\n",
    "    y_b = y[y_5_or_6 == 6].astype(np.float32) # getiing group b and converting the classes 6 to 1 and 5 to 0 as a binary classification task\n",
    "    return ((x[~y_5_or_6], y_a), (x[y_5_or_6], y_b))"
   ]
  },
  {
   "cell_type": "code",
   "execution_count": 10,
   "metadata": {},
   "outputs": [],
   "source": [
    "(x_train_a, y_train_a), (x_train_b, y_train_b) = split_dataset(x_train, y_train)\n",
    "(x_valid_a, y_valid_a), (x_valid_b, y_valid_b) = split_dataset(x_valid, y_valid)\n",
    "(x_test_a, y_test_a), (x_test_b, y_test_b) = split_dataset(x_test, y_test)"
   ]
  },
  {
   "cell_type": "code",
   "execution_count": null,
   "metadata": {},
   "outputs": [],
   "source": [
    "x_trai"
   ]
  }
 ],
 "metadata": {
  "kernelspec": {
   "display_name": "Python 3",
   "language": "python",
   "name": "python3"
  },
  "language_info": {
   "codemirror_mode": {
    "name": "ipython",
    "version": 3
   },
   "file_extension": ".py",
   "mimetype": "text/x-python",
   "name": "python",
   "nbconvert_exporter": "python",
   "pygments_lexer": "ipython3",
   "version": "3.8.2"
  }
 },
 "nbformat": 4,
 "nbformat_minor": 4
}
