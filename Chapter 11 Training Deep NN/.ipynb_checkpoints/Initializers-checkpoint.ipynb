{
 "cells": [
  {
   "cell_type": "markdown",
   "metadata": {},
   "source": [
    "## Checking out the different weight initializers in Keras"
   ]
  },
  {
   "cell_type": "code",
   "execution_count": 1,
   "metadata": {},
   "outputs": [],
   "source": [
    "import tensorflow as tf\n",
    "from tensorflow import keras"
   ]
  },
  {
   "cell_type": "code",
   "execution_count": 8,
   "metadata": {},
   "outputs": [
    {
     "name": "stdout",
     "output_type": "stream",
     "text": [
      "Constant\n",
      "GlorotNormal\n",
      "GlorotUniform\n",
      "HeNormal\n",
      "HeUniform\n",
      "Identity\n",
      "Initializer\n",
      "LecunNormal\n",
      "LecunUniform\n",
      "Ones\n",
      "Orthogonal\n",
      "RandomNormal\n",
      "RandomUniform\n",
      "TruncatedNormal\n",
      "VarianceScaling\n",
      "Zeros\n",
      "constant\n",
      "deserialize\n",
      "get\n",
      "glorot_normal\n",
      "glorot_uniform\n",
      "he_normal\n",
      "he_uniform\n",
      "identity\n",
      "lecun_normal\n",
      "lecun_uniform\n",
      "ones\n",
      "orthogonal\n",
      "random_normal\n",
      "random_uniform\n",
      "serialize\n",
      "truncated_normal\n",
      "variance_scaling\n",
      "zeros\n"
     ]
    }
   ],
   "source": [
    "for name in dir(keras.initializers):\n",
    "    if not name.startswith('_'):\n",
    "        print(name)"
   ]
  },
  {
   "cell_type": "markdown",
   "metadata": {},
   "source": [
    "- The above given initializers are available in Keras"
   ]
  },
  {
   "cell_type": "code",
   "execution_count": 9,
   "metadata": {},
   "outputs": [
    {
     "data": {
      "text/plain": [
       "<tensorflow.python.keras.layers.core.Dense at 0x7f6656b9b220>"
      ]
     },
     "execution_count": 9,
     "metadata": {},
     "output_type": "execute_result"
    }
   ],
   "source": [
    "keras.layers.Dense(10, activation = 'relu', kernel_initializer = 'he_normal')"
   ]
  },
  {
   "cell_type": "code",
   "execution_count": 11,
   "metadata": {},
   "outputs": [
    {
     "data": {
      "text/plain": [
       "<tensorflow.python.keras.layers.core.Dense at 0x7f6651127c40>"
      ]
     },
     "execution_count": 11,
     "metadata": {},
     "output_type": "execute_result"
    }
   ],
   "source": [
    "init = keras.initializers.VarianceScaling(scale = 2., mode = 'fan_avg', distribution = 'uniform')\n",
    "keras.layers.Dense(10, activation = 'relu', kernel_initializer = init)"
   ]
  },
  {
   "cell_type": "code",
   "execution_count": null,
   "metadata": {},
   "outputs": [],
   "source": []
  }
 ],
 "metadata": {
  "kernelspec": {
   "display_name": "Python 3",
   "language": "python",
   "name": "python3"
  },
  "language_info": {
   "codemirror_mode": {
    "name": "ipython",
    "version": 3
   },
   "file_extension": ".py",
   "mimetype": "text/x-python",
   "name": "python",
   "nbconvert_exporter": "python",
   "pygments_lexer": "ipython3",
   "version": "3.8.2"
  }
 },
 "nbformat": 4,
 "nbformat_minor": 4
}
