{
 "cells": [
  {
   "cell_type": "markdown",
   "metadata": {},
   "source": [
    "# Developing custom metrics to use in NN"
   ]
  },
  {
   "cell_type": "markdown",
   "metadata": {},
   "source": [
    "## Importing libraries"
   ]
  },
  {
   "cell_type": "code",
   "execution_count": 1,
   "metadata": {},
   "outputs": [],
   "source": [
    "import pandas as pd\n",
    "import numpy as np\n",
    "from ipynb.fs.full.Useful_funcs import data_pipeline, compile_train, pre_model, create_huber # Custom funcs for data processing, modelling, compiling and training\n",
    "import tensorflow as tf\n",
    "from sklearn.datasets import fetch_california_housing\n",
    "from tensorflow import keras\n",
    "from tensorflow.keras.models import Sequential\n",
    "from tensorflow.keras.layers import Dense\n",
    "from tensorflow.keras.activations import selu\n",
    "from tensorflow.keras.initializers import lecun_normal\n",
    "from tensorflow.keras.optimizers import Nadam\n",
    "from tensorflow.keras.losses import mse"
   ]
  },
  {
   "cell_type": "markdown",
   "metadata": {},
   "source": [
    "## Loading dataset"
   ]
  },
  {
   "cell_type": "code",
   "execution_count": 2,
   "metadata": {},
   "outputs": [],
   "source": [
    "housing = fetch_california_housing()"
   ]
  },
  {
   "cell_type": "code",
   "execution_count": 3,
   "metadata": {},
   "outputs": [],
   "source": [
    "x_train, x_train_scaled, x_valid, x_valid_scaled, x_test, x_test_scaled, y_train, y_valid, y_test = data_pipeline(housing)"
   ]
  },
  {
   "cell_type": "markdown",
   "metadata": {},
   "source": [
    "## Model"
   ]
  },
  {
   "cell_type": "markdown",
   "metadata": {},
   "source": [
    "- The huber loss func defined earlier can be used as a custom metric."
   ]
  },
  {
   "cell_type": "code",
   "execution_count": 8,
   "metadata": {},
   "outputs": [],
   "source": [
    "input_shape = x_train.shape[1:]"
   ]
  },
  {
   "cell_type": "code",
   "execution_count": 9,
   "metadata": {},
   "outputs": [],
   "source": [
    "pre_model()\n",
    "model = Sequential()\n",
    "model.add(Dense(30, activation = selu, kernel_initializer = lecun_normal(), input_shape = input_shape))\n",
    "model.add(Dense(1))"
   ]
  },
  {
   "cell_type": "code",
   "execution_count": 10,
   "metadata": {},
   "outputs": [
    {
     "name": "stdout",
     "output_type": "stream",
     "text": [
      "Model: \"sequential\"\n",
      "_________________________________________________________________\n",
      "Layer (type)                 Output Shape              Param #   \n",
      "=================================================================\n",
      "dense (Dense)                (None, 30)                270       \n",
      "_________________________________________________________________\n",
      "dense_1 (Dense)              (None, 1)                 31        \n",
      "=================================================================\n",
      "Total params: 301\n",
      "Trainable params: 301\n",
      "Non-trainable params: 0\n",
      "_________________________________________________________________\n"
     ]
    }
   ],
   "source": [
    "model.summary()"
   ]
  },
  {
   "cell_type": "code",
   "execution_count": 12,
   "metadata": {},
   "outputs": [
    {
     "name": "stdout",
     "output_type": "stream",
     "text": [
      "Epoch 1/5\n",
      "WARNING:tensorflow:AutoGraph could not transform <function create_huber.<locals>.huber_loss at 0x7fe577ac4280> and will run it as-is.\n",
      "Please report this to the TensorFlow team. When filing the bug, set the verbosity to 10 (on Linux, `export AUTOGRAPH_VERBOSITY=10`) and attach the full output.\n",
      "Cause: unexpected EOF while parsing (<unknown>, line 1)\n",
      "To silence this warning, decorate the function with @tf.autograph.experimental.do_not_convert\n",
      "WARNING: AutoGraph could not transform <function create_huber.<locals>.huber_loss at 0x7fe577ac4280> and will run it as-is.\n",
      "Please report this to the TensorFlow team. When filing the bug, set the verbosity to 10 (on Linux, `export AUTOGRAPH_VERBOSITY=10`) and attach the full output.\n",
      "Cause: unexpected EOF while parsing (<unknown>, line 1)\n",
      "To silence this warning, decorate the function with @tf.autograph.experimental.do_not_convert\n",
      "363/363 [==============================] - 0s 1ms/step - loss: 2.0982 - huber_loss: 0.9192 - val_loss: 9.0831 - val_huber_loss: 0.4418\n",
      "Epoch 2/5\n",
      "363/363 [==============================] - 0s 940us/step - loss: 0.6052 - huber_loss: 0.2733 - val_loss: 5.8943 - val_huber_loss: 0.3463\n",
      "Epoch 3/5\n",
      "363/363 [==============================] - 0s 1ms/step - loss: 0.5113 - huber_loss: 0.2389 - val_loss: 3.4119 - val_huber_loss: 0.3016\n",
      "Epoch 4/5\n",
      "363/363 [==============================] - 0s 952us/step - loss: 0.4814 - huber_loss: 0.2306 - val_loss: 1.8444 - val_huber_loss: 0.2703\n",
      "Epoch 5/5\n",
      "363/363 [==============================] - 0s 850us/step - loss: 0.4646 - huber_loss: 0.2259 - val_loss: 1.0392 - val_huber_loss: 0.2481\n"
     ]
    }
   ],
   "source": [
    "history = compile_train(model, (x_train_scaled, y_train), (x_valid_scaled, y_valid), mse, Nadam(), create_huber(2.), 5)"
   ]
  },
  {
   "cell_type": "markdown",
   "metadata": {},
   "source": [
    "- If we use the same func as loss and metric, we can find that both gives different results."
   ]
  }
 ],
 "metadata": {
  "kernelspec": {
   "display_name": "Python 3",
   "language": "python",
   "name": "python3"
  },
  "language_info": {
   "codemirror_mode": {
    "name": "ipython",
    "version": 3
   },
   "file_extension": ".py",
   "mimetype": "text/x-python",
   "name": "python",
   "nbconvert_exporter": "python",
   "pygments_lexer": "ipython3",
   "version": "3.8.2"
  }
 },
 "nbformat": 4,
 "nbformat_minor": 4
}
