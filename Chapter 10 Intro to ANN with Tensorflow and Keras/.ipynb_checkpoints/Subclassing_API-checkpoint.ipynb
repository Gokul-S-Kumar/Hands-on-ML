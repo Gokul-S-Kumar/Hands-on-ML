{
 "cells": [
  {
   "cell_type": "markdown",
   "metadata": {},
   "source": [
    "## Building a NN using the subclassing API and then training it on the california housing data"
   ]
  },
  {
   "cell_type": "markdown",
   "metadata": {},
   "source": [
    "## Importing libraries"
   ]
  },
  {
   "cell_type": "code",
   "execution_count": 1,
   "metadata": {},
   "outputs": [],
   "source": [
    "import pandas as pd\n",
    "import numpy as np\n",
    "import matplotlib.pyplot as plt\n",
    "import seaborn as sns\n",
    "import tensorflow as tf\n",
    "from tensorflow import keras\n",
    "from sklearn.datasets import fetch_california_housing\n",
    "from sklearn.model_selection import train_test_split\n",
    "from sklearn.preprocessing import StandardScaler"
   ]
  },
  {
   "cell_type": "markdown",
   "metadata": {},
   "source": [
    "## Loading dataset"
   ]
  },
  {
   "cell_type": "code",
   "execution_count": 2,
   "metadata": {},
   "outputs": [],
   "source": [
    "housing = fetch_california_housing()"
   ]
  },
  {
   "cell_type": "code",
   "execution_count": 3,
   "metadata": {},
   "outputs": [],
   "source": [
    "df_data = pd.DataFrame(housing.data, columns = housing.feature_names)"
   ]
  },
  {
   "cell_type": "code",
   "execution_count": 4,
   "metadata": {},
   "outputs": [],
   "source": [
    "df_data['target'] = pd.Series(housing.target)"
   ]
  },
  {
   "cell_type": "code",
   "execution_count": 5,
   "metadata": {},
   "outputs": [
    {
     "data": {
      "text/html": [
       "<div>\n",
       "<style scoped>\n",
       "    .dataframe tbody tr th:only-of-type {\n",
       "        vertical-align: middle;\n",
       "    }\n",
       "\n",
       "    .dataframe tbody tr th {\n",
       "        vertical-align: top;\n",
       "    }\n",
       "\n",
       "    .dataframe thead th {\n",
       "        text-align: right;\n",
       "    }\n",
       "</style>\n",
       "<table border=\"1\" class=\"dataframe\">\n",
       "  <thead>\n",
       "    <tr style=\"text-align: right;\">\n",
       "      <th></th>\n",
       "      <th>MedInc</th>\n",
       "      <th>HouseAge</th>\n",
       "      <th>AveRooms</th>\n",
       "      <th>AveBedrms</th>\n",
       "      <th>Population</th>\n",
       "      <th>AveOccup</th>\n",
       "      <th>Latitude</th>\n",
       "      <th>Longitude</th>\n",
       "      <th>target</th>\n",
       "    </tr>\n",
       "  </thead>\n",
       "  <tbody>\n",
       "    <tr>\n",
       "      <th>0</th>\n",
       "      <td>8.3252</td>\n",
       "      <td>41.0</td>\n",
       "      <td>6.984127</td>\n",
       "      <td>1.023810</td>\n",
       "      <td>322.0</td>\n",
       "      <td>2.555556</td>\n",
       "      <td>37.88</td>\n",
       "      <td>-122.23</td>\n",
       "      <td>4.526</td>\n",
       "    </tr>\n",
       "    <tr>\n",
       "      <th>1</th>\n",
       "      <td>8.3014</td>\n",
       "      <td>21.0</td>\n",
       "      <td>6.238137</td>\n",
       "      <td>0.971880</td>\n",
       "      <td>2401.0</td>\n",
       "      <td>2.109842</td>\n",
       "      <td>37.86</td>\n",
       "      <td>-122.22</td>\n",
       "      <td>3.585</td>\n",
       "    </tr>\n",
       "    <tr>\n",
       "      <th>2</th>\n",
       "      <td>7.2574</td>\n",
       "      <td>52.0</td>\n",
       "      <td>8.288136</td>\n",
       "      <td>1.073446</td>\n",
       "      <td>496.0</td>\n",
       "      <td>2.802260</td>\n",
       "      <td>37.85</td>\n",
       "      <td>-122.24</td>\n",
       "      <td>3.521</td>\n",
       "    </tr>\n",
       "    <tr>\n",
       "      <th>3</th>\n",
       "      <td>5.6431</td>\n",
       "      <td>52.0</td>\n",
       "      <td>5.817352</td>\n",
       "      <td>1.073059</td>\n",
       "      <td>558.0</td>\n",
       "      <td>2.547945</td>\n",
       "      <td>37.85</td>\n",
       "      <td>-122.25</td>\n",
       "      <td>3.413</td>\n",
       "    </tr>\n",
       "    <tr>\n",
       "      <th>4</th>\n",
       "      <td>3.8462</td>\n",
       "      <td>52.0</td>\n",
       "      <td>6.281853</td>\n",
       "      <td>1.081081</td>\n",
       "      <td>565.0</td>\n",
       "      <td>2.181467</td>\n",
       "      <td>37.85</td>\n",
       "      <td>-122.25</td>\n",
       "      <td>3.422</td>\n",
       "    </tr>\n",
       "  </tbody>\n",
       "</table>\n",
       "</div>"
      ],
      "text/plain": [
       "   MedInc  HouseAge  AveRooms  AveBedrms  Population  AveOccup  Latitude  \\\n",
       "0  8.3252      41.0  6.984127   1.023810       322.0  2.555556     37.88   \n",
       "1  8.3014      21.0  6.238137   0.971880      2401.0  2.109842     37.86   \n",
       "2  7.2574      52.0  8.288136   1.073446       496.0  2.802260     37.85   \n",
       "3  5.6431      52.0  5.817352   1.073059       558.0  2.547945     37.85   \n",
       "4  3.8462      52.0  6.281853   1.081081       565.0  2.181467     37.85   \n",
       "\n",
       "   Longitude  target  \n",
       "0    -122.23   4.526  \n",
       "1    -122.22   3.585  \n",
       "2    -122.24   3.521  \n",
       "3    -122.25   3.413  \n",
       "4    -122.25   3.422  "
      ]
     },
     "execution_count": 5,
     "metadata": {},
     "output_type": "execute_result"
    }
   ],
   "source": [
    "df_data.head()"
   ]
  },
  {
   "cell_type": "markdown",
   "metadata": {},
   "source": [
    "- We will be splitting the data into train, validation and test sets.\n",
    "- We will be then scaling them using the Standard Scaler.\n",
    "- Two inputs are to be given to the NN, so the first 5 features goes to the first input and the last 6 features goes to the second input."
   ]
  },
  {
   "cell_type": "code",
   "execution_count": 6,
   "metadata": {},
   "outputs": [],
   "source": [
    "x = np.array(df_data.drop(columns = 'target'))\n",
    "y = np.array(df_data.target)"
   ]
  },
  {
   "cell_type": "code",
   "execution_count": 7,
   "metadata": {},
   "outputs": [],
   "source": [
    "x_train_full, x_test, y_train_full, y_test = train_test_split(x, y, random_state = 42)\n",
    "x_train, x_valid, y_train, y_valid = train_test_split(x_train_full, y_train_full, random_state = 42)"
   ]
  },
  {
   "cell_type": "code",
   "execution_count": 8,
   "metadata": {},
   "outputs": [],
   "source": [
    "scaler = StandardScaler()\n",
    "x_train = scaler.fit_transform(x_train)\n",
    "x_valid = scaler.transform(x_valid)\n",
    "x_test = scaler.transform(x_test)"
   ]
  },
  {
   "cell_type": "code",
   "execution_count": 9,
   "metadata": {},
   "outputs": [
    {
     "data": {
      "text/plain": [
       "array([[-1.15780104, -0.28673138, -0.49550877, ...,  0.38899735,\n",
       "         0.19374821,  0.2870474 ],\n",
       "       [-0.7125531 ,  0.10880952, -0.16332973, ..., -0.11818174,\n",
       "        -0.23725261,  0.06215231],\n",
       "       [-0.2156101 ,  1.8491895 , -0.57982788, ..., -0.67694905,\n",
       "         1.00890193, -1.4271529 ],\n",
       "       ...,\n",
       "       [-0.90351581,  0.66256679, -0.8562583 , ...,  0.68837768,\n",
       "        -0.76194926,  0.66187253],\n",
       "       [ 1.56873373, -1.78978682,  0.75535703, ..., -0.18226735,\n",
       "         1.34152212, -0.73747465],\n",
       "       [ 1.43527981,  0.58345861,  0.10928062, ..., -0.17819366,\n",
       "        -0.82285155,  0.59190517]])"
      ]
     },
     "execution_count": 9,
     "metadata": {},
     "output_type": "execute_result"
    }
   ],
   "source": [
    "x_test"
   ]
  },
  {
   "cell_type": "code",
   "execution_count": 10,
   "metadata": {},
   "outputs": [],
   "source": [
    "x_train_a, x_train_b = x_train[:, :5], x_train[:, 2:]\n",
    "x_valid_a, x_valid_b = x_valid[:, :5], x_valid[:, 2:]\n",
    "x_test_a, x_test_b = x_test[:, :5], x_test[:, 2:]"
   ]
  },
  {
   "cell_type": "markdown",
   "metadata": {},
   "source": [
    "## Building the model"
   ]
  },
  {
   "cell_type": "markdown",
   "metadata": {},
   "source": [
    "- We will be building the wide and deep model.\n",
    "- We will be subclassing the Model class , creating the layers in the constructor and use them to perform the required computations in the call() method."
   ]
  },
  {
   "cell_type": "code",
   "execution_count": 11,
   "metadata": {},
   "outputs": [],
   "source": [
    "class wide_and_deep_model(keras.models.Model):\n",
    "    def __init__(self, units = 30, activation = 'relu', **kwargs):\n",
    "        super().__init__(**kwargs)\n",
    "        self.hidden_1 = keras.layers.Dense(units, activation = activation)\n",
    "        self.hidden_2 = keras.layers.Dense(units, activation = activation)\n",
    "        self.main_output = keras.layers.Dense(1)\n",
    "        self.aux_output = keras.layers.Dense(1)\n",
    "    def call(self, inputs):\n",
    "        input_a, input_b = inputs\n",
    "        hidden_1 = self.hidden_1(input_b)\n",
    "        hidden_2 = self.hidden_2(hidden_1)\n",
    "        concat = keras.layers.Concatenate()([input_a, hidden_2])\n",
    "        main_output = self.main_output(concat)\n",
    "        aux_output = self.aux_output(hidden_2)\n",
    "        return main_output, aux_output"
   ]
  },
  {
   "cell_type": "code",
   "execution_count": 12,
   "metadata": {},
   "outputs": [],
   "source": [
    "model = wide_and_deep_model(30, activation = 'relu')"
   ]
  },
  {
   "cell_type": "markdown",
   "metadata": {},
   "source": [
    "## Compiling the model"
   ]
  },
  {
   "cell_type": "code",
   "execution_count": 13,
   "metadata": {},
   "outputs": [],
   "source": [
    "model.compile(loss = 'mse', loss_weights = [0.9, 0.1], optimizer = keras.optimizers.SGD(lr = 1e-3))"
   ]
  },
  {
   "cell_type": "markdown",
   "metadata": {},
   "source": [
    "## Training the model"
   ]
  },
  {
   "cell_type": "code",
   "execution_count": 14,
   "metadata": {},
   "outputs": [
    {
     "name": "stdout",
     "output_type": "stream",
     "text": [
      "Epoch 1/20\n",
      "363/363 [==============================] - 0s 1ms/step - loss: 2.3232 - output_1_loss: 2.0662 - output_2_loss: 4.6368 - val_loss: 1.9584 - val_output_1_loss: 1.2244 - val_output_2_loss: 8.5648\n",
      "Epoch 2/20\n",
      "363/363 [==============================] - 0s 980us/step - loss: 1.0302 - output_1_loss: 0.8350 - output_2_loss: 2.7868 - val_loss: 1.6255 - val_output_1_loss: 0.7518 - val_output_2_loss: 9.4887\n",
      "Epoch 3/20\n",
      "363/363 [==============================] - 0s 995us/step - loss: 0.8350 - output_1_loss: 0.7046 - output_2_loss: 2.0088 - val_loss: 1.4994 - val_output_1_loss: 0.6409 - val_output_2_loss: 9.2257\n",
      "Epoch 4/20\n",
      "363/363 [==============================] - 0s 973us/step - loss: 0.7490 - output_1_loss: 0.6458 - output_2_loss: 1.6778 - val_loss: 1.3436 - val_output_1_loss: 0.6179 - val_output_2_loss: 7.8749\n",
      "Epoch 5/20\n",
      "363/363 [==============================] - 0s 1ms/step - loss: 0.6993 - output_1_loss: 0.6089 - output_2_loss: 1.5134 - val_loss: 1.1587 - val_output_1_loss: 0.5858 - val_output_2_loss: 6.3150\n",
      "Epoch 6/20\n",
      "363/363 [==============================] - 0s 1ms/step - loss: 0.6640 - output_1_loss: 0.5809 - output_2_loss: 1.4117 - val_loss: 0.9833 - val_output_1_loss: 0.5384 - val_output_2_loss: 4.9873\n",
      "Epoch 7/20\n",
      "363/363 [==============================] - 0s 1ms/step - loss: 0.6354 - output_1_loss: 0.5570 - output_2_loss: 1.3402 - val_loss: 0.8611 - val_output_1_loss: 0.5226 - val_output_2_loss: 3.9077\n",
      "Epoch 8/20\n",
      "363/363 [==============================] - 0s 1ms/step - loss: 0.6124 - output_1_loss: 0.5379 - output_2_loss: 1.2829 - val_loss: 0.7681 - val_output_1_loss: 0.5099 - val_output_2_loss: 3.0925\n",
      "Epoch 9/20\n",
      "363/363 [==============================] - 0s 991us/step - loss: 0.5927 - output_1_loss: 0.5209 - output_2_loss: 1.2383 - val_loss: 0.6786 - val_output_1_loss: 0.4808 - val_output_2_loss: 2.4585\n",
      "Epoch 10/20\n",
      "363/363 [==============================] - 0s 1ms/step - loss: 0.5761 - output_1_loss: 0.5069 - output_2_loss: 1.1986 - val_loss: 0.6306 - val_output_1_loss: 0.4672 - val_output_2_loss: 2.1009\n",
      "Epoch 11/20\n",
      "363/363 [==============================] - 0s 1ms/step - loss: 0.5618 - output_1_loss: 0.4949 - output_2_loss: 1.1643 - val_loss: 0.5933 - val_output_1_loss: 0.4582 - val_output_2_loss: 1.8095\n",
      "Epoch 12/20\n",
      "363/363 [==============================] - 0s 1ms/step - loss: 0.5502 - output_1_loss: 0.4852 - output_2_loss: 1.1357 - val_loss: 0.5625 - val_output_1_loss: 0.4482 - val_output_2_loss: 1.5913\n",
      "Epoch 13/20\n",
      "363/363 [==============================] - 0s 977us/step - loss: 0.5391 - output_1_loss: 0.4760 - output_2_loss: 1.1076 - val_loss: 0.5422 - val_output_1_loss: 0.4436 - val_output_2_loss: 1.4297\n",
      "Epoch 14/20\n",
      "363/363 [==============================] - 0s 1ms/step - loss: 0.5297 - output_1_loss: 0.4683 - output_2_loss: 1.0821 - val_loss: 0.5229 - val_output_1_loss: 0.4305 - val_output_2_loss: 1.3542\n",
      "Epoch 15/20\n",
      "363/363 [==============================] - 0s 1ms/step - loss: 0.5216 - output_1_loss: 0.4620 - output_2_loss: 1.0580 - val_loss: 0.5095 - val_output_1_loss: 0.4257 - val_output_2_loss: 1.2636\n",
      "Epoch 16/20\n",
      "363/363 [==============================] - 0s 992us/step - loss: 0.5142 - output_1_loss: 0.4561 - output_2_loss: 1.0367 - val_loss: 0.4974 - val_output_1_loss: 0.4199 - val_output_2_loss: 1.1948\n",
      "Epoch 17/20\n",
      "363/363 [==============================] - 0s 1ms/step - loss: 0.5074 - output_1_loss: 0.4509 - output_2_loss: 1.0156 - val_loss: 0.4909 - val_output_1_loss: 0.4207 - val_output_2_loss: 1.1229\n",
      "Epoch 18/20\n",
      "363/363 [==============================] - 0s 1ms/step - loss: 0.5016 - output_1_loss: 0.4467 - output_2_loss: 0.9958 - val_loss: 0.4805 - val_output_1_loss: 0.4134 - val_output_2_loss: 1.0844\n",
      "Epoch 19/20\n",
      "363/363 [==============================] - 0s 1ms/step - loss: 0.4960 - output_1_loss: 0.4427 - output_2_loss: 0.9761 - val_loss: 0.4770 - val_output_1_loss: 0.4146 - val_output_2_loss: 1.0388\n",
      "Epoch 20/20\n",
      "363/363 [==============================] - 0s 1ms/step - loss: 0.4910 - output_1_loss: 0.4390 - output_2_loss: 0.9585 - val_loss: 0.4724 - val_output_1_loss: 0.4133 - val_output_2_loss: 1.0047\n"
     ]
    }
   ],
   "source": [
    "history = model.fit([x_train_a, x_train_b], [y_train, y_train], epochs = 20, validation_data = ([x_valid_a, x_valid_b], [y_valid, y_valid]))"
   ]
  },
  {
   "cell_type": "code",
   "execution_count": 15,
   "metadata": {},
   "outputs": [],
   "source": [
    "df_metrics = pd.DataFrame(history.history)"
   ]
  },
  {
   "cell_type": "code",
   "execution_count": 16,
   "metadata": {},
   "outputs": [
    {
     "data": {
      "text/html": [
       "<div>\n",
       "<style scoped>\n",
       "    .dataframe tbody tr th:only-of-type {\n",
       "        vertical-align: middle;\n",
       "    }\n",
       "\n",
       "    .dataframe tbody tr th {\n",
       "        vertical-align: top;\n",
       "    }\n",
       "\n",
       "    .dataframe thead th {\n",
       "        text-align: right;\n",
       "    }\n",
       "</style>\n",
       "<table border=\"1\" class=\"dataframe\">\n",
       "  <thead>\n",
       "    <tr style=\"text-align: right;\">\n",
       "      <th></th>\n",
       "      <th>loss</th>\n",
       "      <th>output_1_loss</th>\n",
       "      <th>output_2_loss</th>\n",
       "      <th>val_loss</th>\n",
       "      <th>val_output_1_loss</th>\n",
       "      <th>val_output_2_loss</th>\n",
       "    </tr>\n",
       "  </thead>\n",
       "  <tbody>\n",
       "    <tr>\n",
       "      <th>0</th>\n",
       "      <td>2.323220</td>\n",
       "      <td>2.066154</td>\n",
       "      <td>4.636810</td>\n",
       "      <td>1.958405</td>\n",
       "      <td>1.224361</td>\n",
       "      <td>8.564794</td>\n",
       "    </tr>\n",
       "    <tr>\n",
       "      <th>1</th>\n",
       "      <td>1.030213</td>\n",
       "      <td>0.835039</td>\n",
       "      <td>2.786775</td>\n",
       "      <td>1.625455</td>\n",
       "      <td>0.751762</td>\n",
       "      <td>9.488692</td>\n",
       "    </tr>\n",
       "    <tr>\n",
       "      <th>2</th>\n",
       "      <td>0.834980</td>\n",
       "      <td>0.704558</td>\n",
       "      <td>2.008780</td>\n",
       "      <td>1.499366</td>\n",
       "      <td>0.640884</td>\n",
       "      <td>9.225706</td>\n",
       "    </tr>\n",
       "    <tr>\n",
       "      <th>3</th>\n",
       "      <td>0.749034</td>\n",
       "      <td>0.645838</td>\n",
       "      <td>1.677799</td>\n",
       "      <td>1.343642</td>\n",
       "      <td>0.617947</td>\n",
       "      <td>7.874904</td>\n",
       "    </tr>\n",
       "    <tr>\n",
       "      <th>4</th>\n",
       "      <td>0.699342</td>\n",
       "      <td>0.608893</td>\n",
       "      <td>1.513379</td>\n",
       "      <td>1.158748</td>\n",
       "      <td>0.585833</td>\n",
       "      <td>6.314991</td>\n",
       "    </tr>\n",
       "  </tbody>\n",
       "</table>\n",
       "</div>"
      ],
      "text/plain": [
       "       loss  output_1_loss  output_2_loss  val_loss  val_output_1_loss  \\\n",
       "0  2.323220       2.066154       4.636810  1.958405           1.224361   \n",
       "1  1.030213       0.835039       2.786775  1.625455           0.751762   \n",
       "2  0.834980       0.704558       2.008780  1.499366           0.640884   \n",
       "3  0.749034       0.645838       1.677799  1.343642           0.617947   \n",
       "4  0.699342       0.608893       1.513379  1.158748           0.585833   \n",
       "\n",
       "   val_output_2_loss  \n",
       "0           8.564794  \n",
       "1           9.488692  \n",
       "2           9.225706  \n",
       "3           7.874904  \n",
       "4           6.314991  "
      ]
     },
     "execution_count": 16,
     "metadata": {},
     "output_type": "execute_result"
    }
   ],
   "source": [
    "df_metrics.head()"
   ]
  },
  {
   "cell_type": "code",
   "execution_count": 23,
   "metadata": {},
   "outputs": [
    {
     "data": {
      "text/plain": [
       "<AxesSubplot:>"
      ]
     },
     "execution_count": 23,
     "metadata": {},
     "output_type": "execute_result"
    },
    {
     "data": {
      "image/png": "[encoded data removed]",
      "text/plain": [
       "<Figure size 720x720 with 1 Axes>"
      ]
     },
     "metadata": {},
     "output_type": "display_data"
    }
   ],
   "source": [
    "sns.set(style = 'whitegrid')\n",
    "plt.figure(figsize = (10,10))\n",
    "sns.lineplot(data = df_metrics, linewidth = 3)"
   ]
  },
  {
   "cell_type": "markdown",
   "metadata": {},
   "source": [
    "## Evaluating the model"
   ]
  },
  {
   "cell_type": "code",
   "execution_count": 24,
   "metadata": {},
   "outputs": [
    {
     "name": "stdout",
     "output_type": "stream",
     "text": [
      "162/162 [==============================] - 0s 816us/step - loss: 0.4783 - output_1_loss: 0.4292 - output_2_loss: 0.9202\n"
     ]
    },
    {
     "data": {
      "text/plain": [
       "[0.478280246257782, 0.4291723966598511, 0.9202495813369751]"
      ]
     },
     "execution_count": 24,
     "metadata": {},
     "output_type": "execute_result"
    }
   ],
   "source": [
    "model.evaluate([x_test_a, x_test_b], [y_test, y_test])"
   ]
  },
  {
   "cell_type": "markdown",
   "metadata": {},
   "source": [
    "- We can see the same results were obtained compared to the functional API NN."
   ]
  },
  {
   "cell_type": "code",
   "execution_count": null,
   "metadata": {},
   "outputs": [],
   "source": []
  }
 ],
 "metadata": {
  "kernelspec": {
   "display_name": "Python 3",
   "language": "python",
   "name": "python3"
  },
  "language_info": {
   "codemirror_mode": {
    "name": "ipython",
    "version": 3
   },
   "file_extension": ".py",
   "mimetype": "text/x-python",
   "name": "python",
   "nbconvert_exporter": "python",
   "pygments_lexer": "ipython3",
   "version": "3.8.2"
  }
 },
 "nbformat": 4,
 "nbformat_minor": 4
}
